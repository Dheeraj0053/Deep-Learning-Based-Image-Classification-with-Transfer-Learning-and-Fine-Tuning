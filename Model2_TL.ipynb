{
  "cells": [
    {
      "cell_type": "markdown",
      "metadata": {
        "id": "ZdSVQDlJ5Tt8"
      },
      "source": [
        "Name: Dheeraj Kumar Ambedkar  \\n\n",
        "School: CDS  \\n\n"
      ]
    },
    {
      "cell_type": "code",
      "source": [
        "import numpy as np\n",
        "np.random.seed(42)\n",
        "\n",
        "import pandas as pd\n",
        "\n",
        "import matplotlib.pyplot as plt\n",
        "%matplotlib inline\n",
        "\n",
        "import tensorflow as tf\n",
        "print(tf.__version__)\n",
        "\n",
        "from tensorflow import keras\n",
        "tf.random.set_seed(42)"
      ],
      "metadata": {
        "colab": {
          "base_uri": "https://localhost:8080/"
        },
        "id": "2R59AoYznWZT",
        "outputId": "f7cfcbdf-f351-4df3-c766-c7e3e0e9e494"
      },
      "execution_count": null,
      "outputs": [
        {
          "output_type": "stream",
          "name": "stdout",
          "text": [
            "2.17.1\n"
          ]
        }
      ]
    },
    {
      "cell_type": "code",
      "execution_count": null,
      "metadata": {
        "id": "D9VctlGb5Tt_"
      },
      "outputs": [],
      "source": [
        "import os\n",
        "import glob\n",
        "import PIL\n",
        "from PIL import Image"
      ]
    },
    {
      "cell_type": "code",
      "execution_count": null,
      "metadata": {
        "id": "yDI-6hjP5TuB",
        "colab": {
          "base_uri": "https://localhost:8080/"
        },
        "outputId": "eecf888f-10e6-4c62-98a1-a9ddaa1d2f72"
      },
      "outputs": [
        {
          "output_type": "stream",
          "name": "stdout",
          "text": [
            "Mounted at /content/drive\n"
          ]
        }
      ],
      "source": [
        "from google.colab import drive\n",
        "import glob\n",
        "\n",
        "# Mount Google Drive\n",
        "drive.mount('/content/drive')\n",
        "\n",
        "\n",
        "\n",
        "\n"
      ]
    },
    {
      "cell_type": "code",
      "source": [
        "# Load the saved data from Google Drive\n",
        "X_train_std = np.load(\"/content/drive/MyDrive/Processed_data/X_train_std.npy\")\n",
        "y_train = np.load(\"/content/drive/MyDrive/Processed_data/y_train.npy\")\n",
        "X_test_std = np.load(\"/content/drive/MyDrive/Processed_data/X_test_std.npy\")\n",
        "y_test = np.load(\"/content/drive/MyDrive/Processed_data/y_test.npy\")\n",
        "y = np.load(\"/content/drive/MyDrive/Processed_data/y.npy\")"
      ],
      "metadata": {
        "id": "miPQu8r-wVPK"
      },
      "execution_count": null,
      "outputs": []
    },
    {
      "cell_type": "code",
      "execution_count": null,
      "metadata": {
        "id": "VjdGTUxg5TuC",
        "colab": {
          "base_uri": "https://localhost:8080/"
        },
        "outputId": "ed35e3a1-694c-4ad0-e532-507a34634152"
      },
      "outputs": [
        {
          "output_type": "stream",
          "name": "stdout",
          "text": [
            "Downloading data from https://storage.googleapis.com/tensorflow/keras-applications/resnet/resnet50v2_weights_tf_dim_ordering_tf_kernels.h5\n",
            "\u001b[1m102869336/102869336\u001b[0m \u001b[32m━━━━━━━━━━━━━━━━━━━━\u001b[0m\u001b[37m\u001b[0m \u001b[1m1s\u001b[0m 0us/step\n"
          ]
        }
      ],
      "source": [
        "# Retrieve the ResNet model from Keras\n",
        "\n",
        "ResNet_model =keras.applications.ResNet50V2()"
      ]
    },
    {
      "cell_type": "code",
      "execution_count": null,
      "metadata": {
        "id": "fi1s-ZYr5TuD",
        "colab": {
          "base_uri": "https://localhost:8080/"
        },
        "outputId": "5b1aa1f7-8f4a-4ce3-c82c-f5e1ee344dde"
      },
      "outputs": [
        {
          "output_type": "stream",
          "name": "stdout",
          "text": [
            "Downloading data from https://storage.googleapis.com/tensorflow/keras-applications/resnet/resnet50v2_weights_tf_dim_ordering_tf_kernels_notop.h5\n",
            "\u001b[1m94668760/94668760\u001b[0m \u001b[32m━━━━━━━━━━━━━━━━━━━━\u001b[0m\u001b[37m\u001b[0m \u001b[1m2s\u001b[0m 0us/step\n"
          ]
        }
      ],
      "source": [
        "# Take only the feature extractor part\n",
        "\n",
        "base_model = keras.applications.ResNet50V2(weights='imagenet',\n",
        "                                                  include_top=False)\n",
        "\n"
      ]
    },
    {
      "cell_type": "code",
      "execution_count": null,
      "metadata": {
        "id": "jZx14U5N5TuE"
      },
      "outputs": [],
      "source": [
        "global_pooling = keras.layers.GlobalAveragePooling2D()(base_model.output)\n",
        "batch_norm = keras.layers.BatchNormalization()(global_pooling)\n",
        "drop_layer = keras.layers.Dropout(0.35)(batch_norm)\n",
        "output_ = keras.layers.Dense(units=3, activation='softmax')(drop_layer)\n",
        "\n",
        "model_TL_2 = keras.models.Model(inputs=[base_model.input], outputs=[output_])\n"
      ]
    },
    {
      "cell_type": "code",
      "source": [
        "model_TL_2.compile(\n",
        "    loss='sparse_categorical_crossentropy',\n",
        "    optimizer='adam',\n",
        "    metrics=['accuracy']\n",
        ")\n",
        "\n",
        "# Callbacks\n",
        "callbacks_TL_2 = [\n",
        "    keras.callbacks.ModelCheckpoint(\"bestTL_2.weights.h5\", monitor='val_accuracy',\n",
        "                                    save_weights_only=True, save_best_only=True)\n",
        "]\n",
        "\n",
        "# Train the model\n",
        "history_TL_2 = model_TL_2.fit(x=X_train_std, y=y_train, epochs=10,\n",
        "    validation_split=0.1, batch_size=16, callbacks=callbacks_TL_2)"
      ],
      "metadata": {
        "colab": {
          "base_uri": "https://localhost:8080/"
        },
        "id": "2K2ipI2KUz0i",
        "outputId": "1c58a9a5-7e08-478e-a932-f0e6a70a867c"
      },
      "execution_count": null,
      "outputs": [
        {
          "output_type": "stream",
          "name": "stdout",
          "text": [
            "Epoch 1/10\n",
            "\u001b[1m28/28\u001b[0m \u001b[32m━━━━━━━━━━━━━━━━━━━━\u001b[0m\u001b[37m\u001b[0m \u001b[1m602s\u001b[0m 20s/step - accuracy: 0.8611 - loss: 0.4379 - val_accuracy: 0.5200 - val_loss: 105.0733\n",
            "Epoch 2/10\n",
            "\u001b[1m28/28\u001b[0m \u001b[32m━━━━━━━━━━━━━━━━━━━━\u001b[0m\u001b[37m\u001b[0m \u001b[1m615s\u001b[0m 20s/step - accuracy: 0.9341 - loss: 0.2904 - val_accuracy: 0.5800 - val_loss: 6.8005\n",
            "Epoch 3/10\n",
            "\u001b[1m28/28\u001b[0m \u001b[32m━━━━━━━━━━━━━━━━━━━━\u001b[0m\u001b[37m\u001b[0m \u001b[1m565s\u001b[0m 20s/step - accuracy: 0.9497 - loss: 0.2102 - val_accuracy: 0.1200 - val_loss: 10.7291\n",
            "Epoch 4/10\n",
            "\u001b[1m28/28\u001b[0m \u001b[32m━━━━━━━━━━━━━━━━━━━━\u001b[0m\u001b[37m\u001b[0m \u001b[1m570s\u001b[0m 20s/step - accuracy: 0.9301 - loss: 0.2362 - val_accuracy: 0.5200 - val_loss: 146.1701\n",
            "Epoch 5/10\n",
            "\u001b[1m28/28\u001b[0m \u001b[32m━━━━━━━━━━━━━━━━━━━━\u001b[0m\u001b[37m\u001b[0m \u001b[1m618s\u001b[0m 20s/step - accuracy: 0.9399 - loss: 0.1726 - val_accuracy: 0.5200 - val_loss: 266.3559\n",
            "Epoch 6/10\n",
            "\u001b[1m28/28\u001b[0m \u001b[32m━━━━━━━━━━━━━━━━━━━━\u001b[0m\u001b[37m\u001b[0m \u001b[1m613s\u001b[0m 20s/step - accuracy: 0.9851 - loss: 0.0358 - val_accuracy: 0.5000 - val_loss: 3.5632\n",
            "Epoch 7/10\n",
            "\u001b[1m28/28\u001b[0m \u001b[32m━━━━━━━━━━━━━━━━━━━━\u001b[0m\u001b[37m\u001b[0m \u001b[1m557s\u001b[0m 20s/step - accuracy: 0.9937 - loss: 0.0131 - val_accuracy: 0.9000 - val_loss: 0.4721\n",
            "Epoch 8/10\n",
            "\u001b[1m28/28\u001b[0m \u001b[32m━━━━━━━━━━━━━━━━━━━━\u001b[0m\u001b[37m\u001b[0m \u001b[1m565s\u001b[0m 20s/step - accuracy: 0.9958 - loss: 0.0100 - val_accuracy: 0.9200 - val_loss: 0.3595\n",
            "Epoch 9/10\n",
            "\u001b[1m28/28\u001b[0m \u001b[32m━━━━━━━━━━━━━━━━━━━━\u001b[0m\u001b[37m\u001b[0m \u001b[1m568s\u001b[0m 20s/step - accuracy: 1.0000 - loss: 0.0065 - val_accuracy: 0.9400 - val_loss: 0.3641\n",
            "Epoch 10/10\n",
            "\u001b[1m28/28\u001b[0m \u001b[32m━━━━━━━━━━━━━━━━━━━━\u001b[0m\u001b[37m\u001b[0m \u001b[1m622s\u001b[0m 20s/step - accuracy: 1.0000 - loss: 8.7030e-04 - val_accuracy: 0.9600 - val_loss: 0.1338\n"
          ]
        }
      ]
    },
    {
      "cell_type": "code",
      "execution_count": null,
      "metadata": {
        "id": "e4oQRPhD5TuF",
        "colab": {
          "base_uri": "https://localhost:8080/",
          "height": 449
        },
        "outputId": "e97ac7ad-98ce-4407-96cb-e54930ff272b"
      },
      "outputs": [
        {
          "output_type": "display_data",
          "data": {
            "text/plain": [
              "<Figure size 640x480 with 1 Axes>"
            ],
            "image/png": "[encoded data removed]"
          },
          "metadata": {}
        }
      ],
      "source": [
        "keys = ['accuracy', 'val_accuracy']\n",
        "progress = {k:v for k,v in history_TL_2.history.items() if k in keys}\n",
        "\n",
        "import pandas as pd\n",
        "pd.DataFrame(progress).plot()\n",
        "\n",
        "plt.xlabel(\"epochs\")\n",
        "plt.ylabel(\"accuracy\")\n",
        "\n",
        "plt.grid(True)\n",
        "plt.show()"
      ]
    },
    {
      "cell_type": "code",
      "execution_count": null,
      "metadata": {
        "id": "N32VXLm85TuG",
        "colab": {
          "base_uri": "https://localhost:8080/"
        },
        "outputId": "95d78aca-669f-422c-80c0-f5b806c34362"
      },
      "outputs": [
        {
          "output_type": "stream",
          "name": "stdout",
          "text": [
            "\u001b[1m6/6\u001b[0m \u001b[32m━━━━━━━━━━━━━━━━━━━━\u001b[0m\u001b[37m\u001b[0m \u001b[1m61s\u001b[0m 9s/step - accuracy: 0.9873 - loss: 0.0516\n",
            "Test-loss: 0.097647, Test-accuracy: 0.975904\n"
          ]
        }
      ],
      "source": [
        "testLoss_TL, testAccuracy_TL = model_TL_2.evaluate(x = X_test_std, y = y_test)\n",
        "print(\"Test-loss: %f, Test-accuracy: %f\" % (testLoss_TL, testAccuracy_TL))"
      ]
    },
    {
      "cell_type": "code",
      "execution_count": null,
      "metadata": {
        "id": "ja2b03x25TuG",
        "colab": {
          "base_uri": "https://localhost:8080/"
        },
        "outputId": "cf9f24d2-1761-429e-e7d7-d8066b1e194e"
      },
      "outputs": [
        {
          "output_type": "stream",
          "name": "stdout",
          "text": [
            "\u001b[1m6/6\u001b[0m \u001b[32m━━━━━━━━━━━━━━━━━━━━\u001b[0m\u001b[37m\u001b[0m \u001b[1m51s\u001b[0m 8s/step - accuracy: 0.9873 - loss: 0.0516\n",
            "Test-loss: 0.097647, Test-accuracy: 0.975904\n"
          ]
        }
      ],
      "source": [
        "model_TL_2.load_weights(\"bestTL_2.weights.h5\")\n",
        "\n",
        "testLoss_TL, testAccuracy_TL = model_TL_2.evaluate(x = X_test_std, y = y_test)\n",
        "print(\"Test-loss: %f, Test-accuracy: %f\" % (testLoss_TL, testAccuracy_TL))"
      ]
    },
    {
      "cell_type": "code",
      "execution_count": null,
      "metadata": {
        "id": "YV2h-ZDM5TuG",
        "outputId": "cd7c6192-9993-4681-8ce8-83b5f45e2d63",
        "colab": {
          "base_uri": "https://localhost:8080/"
        }
      },
      "outputs": [
        {
          "output_type": "stream",
          "name": "stdout",
          "text": [
            "\u001b[1m6/6\u001b[0m \u001b[32m━━━━━━━━━━━━━━━━━━━━\u001b[0m\u001b[37m\u001b[0m \u001b[1m55s\u001b[0m 9s/step\n",
            "[0 0 0 2 1 1 0 0 0 0 0 0 0 2 0 1 1 1 1 1 1 0 1 1 1 0 0 0 1 0 0 2 1 1 2 0 1\n",
            " 0 1 0 0 1 0 1 1 0 0 0 0 1 1 1 0 0 0 0 1 0 0 1 1 0 2 1 1 2 1 1 2 0 0 0 0 2\n",
            " 0 1 0 0 2 1 0 0 0 1 0 2 1 0 1 0 1 1 1 1 0 0 2 1 0 0 0 0 1 1 0 1 1 0 0 0 1\n",
            " 0 0 1 1 0 1 2 0 0 1 0 1 1 1 1 0 1 1 1 0 0 1 1 0 1 1 1 1 0 1 1 1 0 0 0 0 2\n",
            " 0 1 2 1 0 2 1 1 0 0 2 0 1 1 1 1 0 0]\n"
          ]
        }
      ],
      "source": [
        "y_proba = model_TL_2.predict(X_test_std)\n",
        "y_predict = np.argmax(y_proba, axis=-1)\n",
        "print(y_predict)"
      ]
    },
    {
      "cell_type": "code",
      "execution_count": null,
      "metadata": {
        "id": "Grf_BQuG5TuH",
        "colab": {
          "base_uri": "https://localhost:8080/"
        },
        "outputId": "eca65e35-2656-4e1d-b618-7d6b6a153e25"
      },
      "outputs": [
        {
          "output_type": "execute_result",
          "data": {
            "text/plain": [
              "array([[75,  0,  0],\n",
              "       [ 2, 72,  1],\n",
              "       [ 1,  0, 15]])"
            ]
          },
          "metadata": {},
          "execution_count": 13
        }
      ],
      "source": [
        "from sklearn.metrics import confusion_matrix\n",
        "confusion_matrix(y_true = y_test, y_pred = y_predict)"
      ]
    },
    {
      "cell_type": "code",
      "execution_count": null,
      "metadata": {
        "id": "b-i-JII05TuH",
        "outputId": "9c65b99e-23b2-46ed-e242-d2539689158e",
        "colab": {
          "base_uri": "https://localhost:8080/",
          "height": 642
        }
      },
      "outputs": [
        {
          "output_type": "display_data",
          "data": {
            "text/plain": [
              "<Figure size 600x600 with 1 Axes>"
            ],
            "image/png": "[encoded data removed]"
          },
          "metadata": {}
        },
        {
          "output_type": "stream",
          "name": "stdout",
          "text": [
            "{0, 1, 2}\n",
            "['Motorbikes' 'airplanes' 'schooner']\n"
          ]
        }
      ],
      "source": [
        "cm = confusion_matrix(y_true = y_test, y_pred = y_predict)\n",
        "\n",
        "fig, ax = plt.subplots(figsize=(6, 6))\n",
        "ax.matshow(cm, cmap=plt.cm.Blues, alpha=0.3)\n",
        "\n",
        "for i in range(cm.shape[0]):\n",
        "    for j in range(cm.shape[1]):\n",
        "        ax.text(x=j, y=i, s=cm[i, j], va='center', ha='center')\n",
        "\n",
        "ax.title.set_text('CNN\\n')\n",
        "plt.xlabel('Predicted label')\n",
        "plt.ylabel('True label')\n",
        "\n",
        "plt.tight_layout()\n",
        "plt.savefig(\"ConfusionMatrix.png\", dpi=300, format='png', pad_inches=0.3)\n",
        "plt.show()\n",
        "\n",
        "from sklearn.preprocessing import LabelEncoder\n",
        "lEncoder = LabelEncoder()\n",
        "y = lEncoder.fit_transform(y)\n",
        "\n",
        "print(set(y))\n",
        "print(lEncoder.classes_)"
      ]
    },
    {
      "cell_type": "code",
      "execution_count": null,
      "metadata": {
        "id": "vefeE1oM5TuH",
        "outputId": "db976852-658c-4c47-e8a6-2b8a83c280ec",
        "colab": {
          "base_uri": "https://localhost:8080/"
        }
      },
      "outputs": [
        {
          "output_type": "stream",
          "name": "stdout",
          "text": [
            "Requirement already satisfied: pandas in /usr/local/lib/python3.10/dist-packages (2.2.2)\n",
            "Requirement already satisfied: numpy>=1.22.4 in /usr/local/lib/python3.10/dist-packages (from pandas) (1.26.4)\n",
            "Requirement already satisfied: python-dateutil>=2.8.2 in /usr/local/lib/python3.10/dist-packages (from pandas) (2.8.2)\n",
            "Requirement already satisfied: pytz>=2020.1 in /usr/local/lib/python3.10/dist-packages (from pandas) (2024.2)\n",
            "Requirement already satisfied: tzdata>=2022.7 in /usr/local/lib/python3.10/dist-packages (from pandas) (2024.2)\n",
            "Requirement already satisfied: six>=1.5 in /usr/local/lib/python3.10/dist-packages (from python-dateutil>=2.8.2->pandas) (1.17.0)\n"
          ]
        }
      ],
      "source": [
        "!pip install pandas"
      ]
    },
    {
      "cell_type": "code",
      "execution_count": null,
      "metadata": {
        "id": "M4icYhYY5TuH",
        "outputId": "1c25f032-5488-4036-9988-577de8071451",
        "colab": {
          "base_uri": "https://localhost:8080/"
        }
      },
      "outputs": [
        {
          "output_type": "stream",
          "name": "stdout",
          "text": [
            "Precision:  0.976598702502317\n",
            "Recall:  0.9759036144578314\n",
            "F1-score:  0.9758963826494452\n",
            "\n",
            "\n",
            "\n",
            "\n"
          ]
        }
      ],
      "source": [
        "from sklearn.metrics import precision_score, recall_score, f1_score\n",
        "\n",
        "pScore = precision_score(y_true= y_test, y_pred = y_predict, average = 'weighted')\n",
        "print(\"Precision: \", pScore)\n",
        "\n",
        "rScore = recall_score(y_true= y_test, y_pred = y_predict, average = 'weighted')\n",
        "print(\"Recall: \", rScore)\n",
        "\n",
        "fScore = f1_score(y_true= y_test, y_pred = y_predict, average = 'weighted')\n",
        "print(\"F1-score: \", fScore)\n",
        "\n",
        "print(\"\\n\\n\\n\")"
      ]
    },
    {
      "cell_type": "code",
      "execution_count": null,
      "metadata": {
        "id": "aLrSREGT5TuK",
        "outputId": "23d7d34a-5608-4fd1-cc77-78eb8baa99fe",
        "colab": {
          "base_uri": "https://localhost:8080/"
        }
      },
      "outputs": [
        {
          "output_type": "stream",
          "name": "stderr",
          "text": [
            "WARNING:absl:You are saving your model as an HDF5 file via `model.save()` or `keras.saving.save_model(model)`. This file format is considered legacy. We recommend using instead the native Keras format, e.g. `model.save('my_model.keras')` or `keras.saving.save_model(model, 'my_model.keras')`. \n"
          ]
        }
      ],
      "source": [
        "# Saves the best model obtained\n",
        "model_TL_2.save('/content/drive/MyDrive/Models/ResNet50V2_TransferLearning_Best_Model.h5')"
      ]
    },
    {
      "cell_type": "code",
      "execution_count": null,
      "metadata": {
        "id": "ykjVcQ2i5TuK"
      },
      "outputs": [],
      "source": [
        "from numpy import save\n",
        "\n",
        "save('/content/drive/MyDrive/Models/X_train_std.npy', X_train_std)\n",
        "save('/content/drive/MyDrive/Models/X_test_std.npy', X_test_std)\n",
        "\n",
        "save('/content/drive/MyDrive/Models/y_train.npy', y_train)\n",
        "save('/content/drive/MyDrive/Models/y_test.npy', y_test)"
      ]
    },
    {
      "cell_type": "code",
      "execution_count": null,
      "metadata": {
        "id": "PodEyGFl5TuK"
      },
      "outputs": [],
      "source": []
    }
  ],
  "metadata": {
    "kernelspec": {
      "display_name": "Python 3",
      "name": "python3"
    },
    "language_info": {
      "codemirror_mode": {
        "name": "ipython",
        "version": 3
      },
      "file_extension": ".py",
      "mimetype": "text/x-python",
      "name": "python",
      "nbconvert_exporter": "python",
      "pygments_lexer": "ipython3",
      "version": "3.11.4"
    },
    "colab": {
      "provenance": [],
      "gpuType": "T4"
    },
    "accelerator": "GPU"
  },
  "nbformat": 4,
  "nbformat_minor": 0
}