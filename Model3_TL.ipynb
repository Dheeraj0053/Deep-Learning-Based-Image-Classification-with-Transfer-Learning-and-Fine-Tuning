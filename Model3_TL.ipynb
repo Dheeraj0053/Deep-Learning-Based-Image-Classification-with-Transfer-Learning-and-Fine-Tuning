{
  "cells": [
    {
      "cell_type": "markdown",
      "metadata": {
        "id": "ZdSVQDlJ5Tt8"
      },
      "source": [
        "Name: Dheeraj Kumar Ambedkar  \\n\n",
        "School: CDS  \\n\n"
      ]
    },
    {
      "cell_type": "code",
      "execution_count": null,
      "metadata": {
        "colab": {
          "base_uri": "https://localhost:8080/"
        },
        "id": "2R59AoYznWZT",
        "outputId": "91ba9d8b-f593-4581-8770-c7d0c9882d1b"
      },
      "outputs": [
        {
          "name": "stdout",
          "output_type": "stream",
          "text": [
            "2.17.1\n"
          ]
        }
      ],
      "source": [
        "import numpy as np\n",
        "np.random.seed(42)\n",
        "\n",
        "import pandas as pd\n",
        "\n",
        "import matplotlib.pyplot as plt\n",
        "%matplotlib inline\n",
        "\n",
        "import tensorflow as tf\n",
        "print(tf.__version__)\n",
        "\n",
        "from tensorflow import keras\n",
        "tf.random.set_seed(42)"
      ]
    },
    {
      "cell_type": "code",
      "execution_count": null,
      "metadata": {
        "id": "D9VctlGb5Tt_"
      },
      "outputs": [],
      "source": [
        "import os\n",
        "import glob\n",
        "import PIL\n",
        "from PIL import Image"
      ]
    },
    {
      "cell_type": "code",
      "execution_count": null,
      "metadata": {
        "colab": {
          "base_uri": "https://localhost:8080/"
        },
        "id": "yDI-6hjP5TuB",
        "outputId": "19e30a21-1a68-4dc8-d4a7-af0e417bd6a0"
      },
      "outputs": [
        {
          "name": "stdout",
          "output_type": "stream",
          "text": [
            "Mounted at /content/drive\n"
          ]
        }
      ],
      "source": [
        "from google.colab import drive\n",
        "import glob\n",
        "\n",
        "# Mount Google Drive\n",
        "drive.mount('/content/drive')\n",
        "\n",
        "\n",
        "\n",
        "\n"
      ]
    },
    {
      "cell_type": "code",
      "execution_count": null,
      "metadata": {
        "id": "miPQu8r-wVPK"
      },
      "outputs": [],
      "source": [
        "# Load the saved data from Google Drive\n",
        "X_train_std = np.load(\"/content/drive/MyDrive/Processed_data/X_train_std.npy\")\n",
        "y_train = np.load(\"/content/drive/MyDrive/Processed_data/y_train.npy\")\n",
        "X_test_std = np.load(\"/content/drive/MyDrive/Processed_data/X_test_std.npy\")\n",
        "y_test = np.load(\"/content/drive/MyDrive/Processed_data/y_test.npy\")\n",
        "y = np.load(\"/content/drive/MyDrive/Processed_data/y.npy\")"
      ]
    },
    {
      "cell_type": "code",
      "execution_count": null,
      "metadata": {
        "colab": {
          "base_uri": "https://localhost:8080/"
        },
        "id": "VjdGTUxg5TuC",
        "outputId": "344124ba-cd3e-42b3-aefa-c58a504f3a0f"
      },
      "outputs": [
        {
          "name": "stdout",
          "output_type": "stream",
          "text": [
            "Downloading data from https://storage.googleapis.com/tensorflow/keras-applications/inception_resnet_v2/inception_resnet_v2_weights_tf_dim_ordering_tf_kernels.h5\n",
            "\u001b[1m225209952/225209952\u001b[0m \u001b[32m━━━━━━━━━━━━━━━━━━━━\u001b[0m\u001b[37m\u001b[0m \u001b[1m1s\u001b[0m 0us/step\n"
          ]
        }
      ],
      "source": [
        "# Retrieve the InceptionResNetV2 model from Keras\n",
        "\n",
        "InceptionResNetV2_model =keras.applications.InceptionResNetV2()"
      ]
    },
    {
      "cell_type": "code",
      "execution_count": null,
      "metadata": {
        "colab": {
          "base_uri": "https://localhost:8080/"
        },
        "id": "fi1s-ZYr5TuD",
        "outputId": "a5fb85cd-72b1-4722-e6b0-6e6c49632e4a"
      },
      "outputs": [
        {
          "name": "stdout",
          "output_type": "stream",
          "text": [
            "Downloading data from https://storage.googleapis.com/tensorflow/keras-applications/inception_resnet_v2/inception_resnet_v2_weights_tf_dim_ordering_tf_kernels_notop.h5\n",
            "\u001b[1m219055592/219055592\u001b[0m \u001b[32m━━━━━━━━━━━━━━━━━━━━\u001b[0m\u001b[37m\u001b[0m \u001b[1m1s\u001b[0m 0us/step\n"
          ]
        }
      ],
      "source": [
        "# Take only the feature extractor part\n",
        "\n",
        "base_model = keras.applications.InceptionResNetV2(weights='imagenet',\n",
        "                                                  include_top=False)\n",
        "\n"
      ]
    },
    {
      "cell_type": "code",
      "execution_count": null,
      "metadata": {
        "id": "jZx14U5N5TuE"
      },
      "outputs": [],
      "source": [
        "x = keras.layers.GlobalAveragePooling2D()(base_model.output)\n",
        "x = keras.layers.Dropout(0.15)(x)\n",
        "output_ = keras.layers.Dense(units=5, activation='softmax')(x)\n",
        "\n",
        "model_TL_3 = keras.models.Model(inputs=[base_model.input], outputs=[output_])"
      ]
    },
    {
      "cell_type": "code",
      "execution_count": null,
      "metadata": {
        "colab": {
          "background_save": true,
          "base_uri": "https://localhost:8080/"
        },
        "id": "2K2ipI2KUz0i",
        "outputId": "55133020-2982-426a-d231-7566773d77f8"
      },
      "outputs": [
        {
          "name": "stdout",
          "output_type": "stream",
          "text": [
            "Epoch 1/10\n",
            "\u001b[1m28/28\u001b[0m \u001b[32m━━━━━━━━━━━━━━━━━━━━\u001b[0m\u001b[37m\u001b[0m \u001b[1m1116s\u001b[0m 36s/step - accuracy: 0.8566 - loss: 0.3729 - val_accuracy: 0.5200 - val_loss: 454.2865\n",
            "Epoch 2/10\n",
            "\u001b[1m28/28\u001b[0m \u001b[32m━━━━━━━━━━━━━━━━━━━━\u001b[0m\u001b[37m\u001b[0m \u001b[1m985s\u001b[0m 35s/step - accuracy: 0.9919 - loss: 0.0907 - val_accuracy: 0.5200 - val_loss: 233.0844\n",
            "Epoch 3/10\n",
            "\u001b[1m28/28\u001b[0m \u001b[32m━━━━━━━━━━━━━━━━━━━━\u001b[0m\u001b[37m\u001b[0m \u001b[1m981s\u001b[0m 35s/step - accuracy: 0.9873 - loss: 0.0426 - val_accuracy: 0.8000 - val_loss: 2.0438\n",
            "Epoch 4/10\n",
            "\u001b[1m28/28\u001b[0m \u001b[32m━━━━━━━━━━━━━━━━━━━━\u001b[0m\u001b[37m\u001b[0m \u001b[1m982s\u001b[0m 35s/step - accuracy: 0.9986 - loss: 0.0033 - val_accuracy: 0.5800 - val_loss: 15.7359\n",
            "Epoch 5/10\n",
            "\u001b[1m28/28\u001b[0m \u001b[32m━━━━━━━━━━━━━━━━━━━━\u001b[0m\u001b[37m\u001b[0m \u001b[1m966s\u001b[0m 34s/step - accuracy: 0.9967 - loss: 0.0046 - val_accuracy: 0.6800 - val_loss: 3.3186\n",
            "Epoch 6/10\n",
            "\u001b[1m28/28\u001b[0m \u001b[32m━━━━━━━━━━━━━━━━━━━━\u001b[0m\u001b[37m\u001b[0m \u001b[1m1012s\u001b[0m 36s/step - accuracy: 1.0000 - loss: 0.0016 - val_accuracy: 0.9200 - val_loss: 0.2272\n",
            "Epoch 7/10\n",
            "\u001b[1m28/28\u001b[0m \u001b[32m━━━━━━━━━━━━━━━━━━━━\u001b[0m\u001b[37m\u001b[0m \u001b[1m986s\u001b[0m 35s/step - accuracy: 1.0000 - loss: 7.5461e-04 - val_accuracy: 0.9800 - val_loss: 0.1159\n",
            "Epoch 8/10\n",
            "\u001b[1m28/28\u001b[0m \u001b[32m━━━━━━━━━━━━━━━━━━━━\u001b[0m\u001b[37m\u001b[0m \u001b[1m1037s\u001b[0m 35s/step - accuracy: 1.0000 - loss: 1.4654e-04 - val_accuracy: 0.9800 - val_loss: 0.0506\n",
            "Epoch 9/10\n",
            "\u001b[1m28/28\u001b[0m \u001b[32m━━━━━━━━━━━━━━━━━━━━\u001b[0m\u001b[37m\u001b[0m \u001b[1m1009s\u001b[0m 36s/step - accuracy: 1.0000 - loss: 1.2053e-04 - val_accuracy: 1.0000 - val_loss: 0.0194\n",
            "Epoch 10/10\n",
            "\u001b[1m28/28\u001b[0m \u001b[32m━━━━━━━━━━━━━━━━━━━━\u001b[0m\u001b[37m\u001b[0m \u001b[1m1023s\u001b[0m 35s/step - accuracy: 1.0000 - loss: 9.1024e-05 - val_accuracy: 1.0000 - val_loss: 0.0134\n"
          ]
        }
      ],
      "source": [
        "model_TL_3.compile(\n",
        "    loss='sparse_categorical_crossentropy',\n",
        "    optimizer='adam',\n",
        "    metrics=['accuracy']\n",
        ")\n",
        "\n",
        "# Callbacks\n",
        "callbacks_TL_3 = [\n",
        "    keras.callbacks.ModelCheckpoint(\"bestTL_3.weights.h5\", monitor='val_accuracy',\n",
        "                                    save_weights_only=True, save_best_only=True)\n",
        "]\n",
        "\n",
        "# Train the model\n",
        "history_TL_3 = model_TL_3.fit(x=X_train_std, y=y_train, epochs=10,\n",
        "    validation_split=0.1, batch_size=16, callbacks=callbacks_TL_3)"
      ]
    },
    {
      "cell_type": "code",
      "execution_count": null,
      "metadata": {
        "colab": {
          "base_uri": "https://localhost:8080/",
          "height": 449
        },
        "id": "e4oQRPhD5TuF",
        "outputId": "787883c7-11f9-4331-d5a2-06a991b1ab5c"
      },
      "outputs": [
        {
          "output_type": "display_data",
          "data": {
            "text/plain": [
              "<Figure size 640x480 with 1 Axes>"
            ],
            "image/png": "[encoded data removed]"
          },
          "metadata": {}
        }
      ],
      "source": [
        "keys = ['accuracy', 'val_accuracy']\n",
        "progress = {k:v for k,v in history_TL_3.history.items() if k in keys}\n",
        "\n",
        "import pandas as pd\n",
        "pd.DataFrame(progress).plot()\n",
        "\n",
        "plt.xlabel(\"epochs\")\n",
        "plt.ylabel(\"accuracy\")\n",
        "\n",
        "plt.grid(True)\n",
        "plt.show()"
      ]
    },
    {
      "cell_type": "code",
      "execution_count": null,
      "metadata": {
        "colab": {
          "base_uri": "https://localhost:8080/"
        },
        "id": "N32VXLm85TuG",
        "outputId": "a5e1d92f-1bc7-4570-8e3f-73e0caae06a7"
      },
      "outputs": [
        {
          "output_type": "stream",
          "name": "stdout",
          "text": [
            "\u001b[1m6/6\u001b[0m \u001b[32m━━━━━━━━━━━━━━━━━━━━\u001b[0m\u001b[37m\u001b[0m \u001b[1m99s\u001b[0m 15s/step - accuracy: 1.0000 - loss: 4.0175e-04\n",
            "Test-loss: 0.000671, Test-accuracy: 1.000000\n"
          ]
        }
      ],
      "source": [
        "testLoss_TL, testAccuracy_TL = model_TL_3.evaluate(x = X_test_std, y = y_test)\n",
        "print(\"Test-loss: %f, Test-accuracy: %f\" % (testLoss_TL, testAccuracy_TL))"
      ]
    },
    {
      "cell_type": "code",
      "execution_count": null,
      "metadata": {
        "colab": {
          "base_uri": "https://localhost:8080/"
        },
        "id": "ja2b03x25TuG",
        "outputId": "aaac220f-f889-4216-8b2c-79ac81f49078"
      },
      "outputs": [
        {
          "output_type": "stream",
          "name": "stdout",
          "text": [
            "\u001b[1m6/6\u001b[0m \u001b[32m━━━━━━━━━━━━━━━━━━━━\u001b[0m\u001b[37m\u001b[0m \u001b[1m93s\u001b[0m 15s/step - accuracy: 1.0000 - loss: 0.0017\n",
            "Test-loss: 0.002801, Test-accuracy: 1.000000\n"
          ]
        }
      ],
      "source": [
        "model_TL_3.load_weights(\"bestTL_3.weights.h5\")\n",
        "\n",
        "testLoss_TL, testAccuracy_TL = model_TL_3.evaluate(x = X_test_std, y = y_test)\n",
        "print(\"Test-loss: %f, Test-accuracy: %f\" % (testLoss_TL, testAccuracy_TL))"
      ]
    },
    {
      "cell_type": "code",
      "execution_count": null,
      "metadata": {
        "colab": {
          "base_uri": "https://localhost:8080/"
        },
        "id": "YV2h-ZDM5TuG",
        "outputId": "2ba49331-f89c-4024-c305-4e89269ab5a7"
      },
      "outputs": [
        {
          "output_type": "stream",
          "name": "stdout",
          "text": [
            "\u001b[1m6/6\u001b[0m \u001b[32m━━━━━━━━━━━━━━━━━━━━\u001b[0m\u001b[37m\u001b[0m \u001b[1m109s\u001b[0m 16s/step\n",
            "[0 0 0 2 1 1 0 0 0 0 0 0 0 2 0 1 1 1 1 1 1 0 1 1 1 0 0 0 1 0 0 2 1 1 2 0 1\n",
            " 0 1 0 0 1 0 1 1 0 0 0 0 1 1 1 0 0 0 0 1 0 0 1 1 0 2 1 1 2 1 1 2 0 0 0 0 2\n",
            " 0 1 0 0 2 1 0 0 0 1 0 2 1 0 1 0 1 1 1 1 0 0 1 1 0 0 0 0 1 1 0 1 1 0 0 0 1\n",
            " 0 0 1 1 0 1 2 0 1 1 0 1 1 1 1 0 1 1 1 1 0 1 1 0 1 1 1 1 0 1 1 1 0 0 2 0 2\n",
            " 0 1 2 1 0 2 1 1 0 0 2 0 1 1 1 1 0 0]\n"
          ]
        }
      ],
      "source": [
        "y_proba = model_TL_3.predict(X_test_std)\n",
        "y_predict = np.argmax(y_proba, axis=-1)\n",
        "print(y_predict)"
      ]
    },
    {
      "cell_type": "code",
      "execution_count": null,
      "metadata": {
        "colab": {
          "base_uri": "https://localhost:8080/"
        },
        "id": "Grf_BQuG5TuH",
        "outputId": "41bcf4ef-5a4c-4abc-f543-a46c8d8da12b"
      },
      "outputs": [
        {
          "output_type": "execute_result",
          "data": {
            "text/plain": [
              "array([[75,  0,  0],\n",
              "       [ 0, 75,  0],\n",
              "       [ 0,  0, 16]])"
            ]
          },
          "metadata": {},
          "execution_count": 13
        }
      ],
      "source": [
        "from sklearn.metrics import confusion_matrix\n",
        "confusion_matrix(y_true = y_test, y_pred = y_predict)"
      ]
    },
    {
      "cell_type": "code",
      "execution_count": null,
      "metadata": {
        "colab": {
          "base_uri": "https://localhost:8080/",
          "height": 642
        },
        "id": "b-i-JII05TuH",
        "outputId": "2f061fb1-5ae6-43ee-ee86-56550d312bac"
      },
      "outputs": [
        {
          "output_type": "display_data",
          "data": {
            "text/plain": [
              "<Figure size 600x600 with 1 Axes>"
            ],
            "image/png": "[encoded data removed]"
          },
          "metadata": {}
        },
        {
          "output_type": "stream",
          "name": "stdout",
          "text": [
            "{0, 1, 2}\n",
            "['Motorbikes' 'airplanes' 'schooner']\n"
          ]
        }
      ],
      "source": [
        "cm = confusion_matrix(y_true = y_test, y_pred = y_predict)\n",
        "\n",
        "fig, ax = plt.subplots(figsize=(6, 6))\n",
        "ax.matshow(cm, cmap=plt.cm.Blues, alpha=0.3)\n",
        "\n",
        "for i in range(cm.shape[0]):\n",
        "    for j in range(cm.shape[1]):\n",
        "        ax.text(x=j, y=i, s=cm[i, j], va='center', ha='center')\n",
        "\n",
        "ax.title.set_text('CNN\\n')\n",
        "plt.xlabel('Predicted label')\n",
        "plt.ylabel('True label')\n",
        "\n",
        "plt.tight_layout()\n",
        "plt.savefig(\"ConfusionMatrix.png\", dpi=300, format='png', pad_inches=0.3)\n",
        "plt.show()\n",
        "\n",
        "from sklearn.preprocessing import LabelEncoder\n",
        "lEncoder = LabelEncoder()\n",
        "y = lEncoder.fit_transform(y)\n",
        "\n",
        "print(set(y))\n",
        "print(lEncoder.classes_)"
      ]
    },
    {
      "cell_type": "code",
      "execution_count": null,
      "metadata": {
        "colab": {
          "base_uri": "https://localhost:8080/"
        },
        "id": "vefeE1oM5TuH",
        "outputId": "eee5b478-1048-4780-bdfa-2ec867e7d180"
      },
      "outputs": [
        {
          "output_type": "stream",
          "name": "stdout",
          "text": [
            "Requirement already satisfied: pandas in /usr/local/lib/python3.10/dist-packages (2.2.2)\n",
            "Requirement already satisfied: numpy>=1.22.4 in /usr/local/lib/python3.10/dist-packages (from pandas) (1.26.4)\n",
            "Requirement already satisfied: python-dateutil>=2.8.2 in /usr/local/lib/python3.10/dist-packages (from pandas) (2.8.2)\n",
            "Requirement already satisfied: pytz>=2020.1 in /usr/local/lib/python3.10/dist-packages (from pandas) (2024.2)\n",
            "Requirement already satisfied: tzdata>=2022.7 in /usr/local/lib/python3.10/dist-packages (from pandas) (2024.2)\n",
            "Requirement already satisfied: six>=1.5 in /usr/local/lib/python3.10/dist-packages (from python-dateutil>=2.8.2->pandas) (1.17.0)\n"
          ]
        }
      ],
      "source": [
        "!pip install pandas"
      ]
    },
    {
      "cell_type": "code",
      "execution_count": null,
      "metadata": {
        "colab": {
          "base_uri": "https://localhost:8080/"
        },
        "id": "M4icYhYY5TuH",
        "outputId": "44d2c83b-1983-47ec-e743-74ad8c05420b"
      },
      "outputs": [
        {
          "output_type": "stream",
          "name": "stdout",
          "text": [
            "Precision:  1.0\n",
            "Recall:  1.0\n",
            "F1-score:  1.0\n",
            "\n",
            "\n",
            "\n",
            "\n"
          ]
        }
      ],
      "source": [
        "from sklearn.metrics import precision_score, recall_score, f1_score\n",
        "\n",
        "pScore = precision_score(y_true= y_test, y_pred = y_predict, average = 'weighted')\n",
        "print(\"Precision: \", pScore)\n",
        "\n",
        "rScore = recall_score(y_true= y_test, y_pred = y_predict, average = 'weighted')\n",
        "print(\"Recall: \", rScore)\n",
        "\n",
        "fScore = f1_score(y_true= y_test, y_pred = y_predict, average = 'weighted')\n",
        "print(\"F1-score: \", fScore)\n",
        "\n",
        "print(\"\\n\\n\\n\")"
      ]
    },
    {
      "cell_type": "code",
      "execution_count": null,
      "metadata": {
        "colab": {
          "base_uri": "https://localhost:8080/"
        },
        "id": "aLrSREGT5TuK",
        "outputId": "768ed4f7-3927-4201-9ca3-bf531f77b412"
      },
      "outputs": [
        {
          "output_type": "stream",
          "name": "stderr",
          "text": [
            "WARNING:absl:You are saving your model as an HDF5 file via `model.save()` or `keras.saving.save_model(model)`. This file format is considered legacy. We recommend using instead the native Keras format, e.g. `model.save('my_model.keras')` or `keras.saving.save_model(model, 'my_model.keras')`. \n"
          ]
        }
      ],
      "source": [
        "# Saves the best model obtained\n",
        "model_TL_3.save('/content/drive/MyDrive/Models/InceptionResNetV2_TransferLearning_Best_Model.h5')"
      ]
    },
    {
      "cell_type": "code",
      "execution_count": null,
      "metadata": {
        "id": "ykjVcQ2i5TuK"
      },
      "outputs": [],
      "source": [
        "from numpy import save\n",
        "\n",
        "save('/content/drive/MyDrive/Models/X_train_std.npy', X_train_std)\n",
        "save('/content/drive/MyDrive/Models/X_test_std.npy', X_test_std)\n",
        "\n",
        "save('/content/drive/MyDrive/Models/y_train.npy', y_train)\n",
        "save('/content/drive/MyDrive/Models/y_test.npy', y_test)"
      ]
    },
    {
      "cell_type": "code",
      "execution_count": null,
      "metadata": {
        "id": "PodEyGFl5TuK"
      },
      "outputs": [],
      "source": []
    }
  ],
  "metadata": {
    "accelerator": "GPU",
    "colab": {
      "gpuType": "T4",
      "provenance": []
    },
    "kernelspec": {
      "display_name": "Python 3",
      "name": "python3"
    },
    "language_info": {
      "codemirror_mode": {
        "name": "ipython",
        "version": 3
      },
      "file_extension": ".py",
      "mimetype": "text/x-python",
      "name": "python",
      "nbconvert_exporter": "python",
      "pygments_lexer": "ipython3",
      "version": "3.11.4"
    }
  },
  "nbformat": 4,
  "nbformat_minor": 0
}