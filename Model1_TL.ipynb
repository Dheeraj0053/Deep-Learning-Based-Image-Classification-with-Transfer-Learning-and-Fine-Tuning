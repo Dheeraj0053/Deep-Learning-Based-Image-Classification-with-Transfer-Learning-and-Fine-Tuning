{
  "cells": [
    {
      "cell_type": "markdown",
      "metadata": {
        "id": "ZdSVQDlJ5Tt8"
      },
      "source": [
        "Name: Dheeraj Kumar Ambedkar  \n",
        "School: CDS  \n"
      ]
    },
    {
      "cell_type": "code",
      "source": [
        "import numpy as np\n",
        "np.random.seed(42)\n",
        "\n",
        "import pandas as pds\n",
        "\n",
        "import matplotlib.pyplot as plt\n",
        "%matplotlib inline\n",
        "\n",
        "import tensorflow as tf\n",
        "print(tf.__version__)\n",
        "\n",
        "from tensorflow import keras\n",
        "tf.random.set_seed(42)"
      ],
      "metadata": {
        "colab": {
          "base_uri": "https://localhost:8080/"
        },
        "id": "2R59AoYznWZT",
        "outputId": "545cff55-338f-4df2-8146-727ec4b6f56b"
      },
      "execution_count": null,
      "outputs": [
        {
          "output_type": "stream",
          "name": "stdout",
          "text": [
            "2.17.1\n"
          ]
        }
      ]
    },
    {
      "cell_type": "code",
      "execution_count": null,
      "metadata": {
        "id": "D9VctlGb5Tt_"
      },
      "outputs": [],
      "source": [
        "import os\n",
        "import glob\n",
        "import PIL\n",
        "from PIL import Image"
      ]
    },
    {
      "cell_type": "code",
      "execution_count": null,
      "metadata": {
        "id": "yDI-6hjP5TuB",
        "colab": {
          "base_uri": "https://localhost:8080/"
        },
        "outputId": "ce8e7e9b-6774-47e7-a998-cb7cf1b69e91"
      },
      "outputs": [
        {
          "output_type": "stream",
          "name": "stdout",
          "text": [
            "Drive already mounted at /content/drive; to attempt to forcibly remount, call drive.mount(\"/content/drive\", force_remount=True).\n"
          ]
        }
      ],
      "source": [
        "from google.colab import drive\n",
        "import glob\n",
        "\n",
        "# Mount Google Drive\n",
        "drive.mount('/content/drive')\n",
        "\n",
        "\n",
        "\n",
        "\n"
      ]
    },
    {
      "cell_type": "code",
      "source": [
        "# Load the saved data from Google Drive\n",
        "X_train_std = np.load(\"/content/drive/MyDrive/Processed_data/X_train_std.npy\")\n",
        "y_train = np.load(\"/content/drive/MyDrive/Processed_data/y_train.npy\")\n",
        "X_test_std = np.load(\"/content/drive/MyDrive/Processed_data/X_test_std.npy\")\n",
        "y_test = np.load(\"/content/drive/MyDrive/Processed_data/y_test.npy\")\n",
        "y = np.load(\"/content/drive/MyDrive/Processed_data/y.npy\")"
      ],
      "metadata": {
        "id": "miPQu8r-wVPK"
      },
      "execution_count": null,
      "outputs": []
    },
    {
      "cell_type": "code",
      "execution_count": null,
      "metadata": {
        "id": "VjdGTUxg5TuC"
      },
      "outputs": [],
      "source": [
        "# Retrieve the Xception model from Keras\n",
        "\n",
        "Xception_model =keras.applications.Xception()"
      ]
    },
    {
      "cell_type": "code",
      "execution_count": null,
      "metadata": {
        "id": "fi1s-ZYr5TuD"
      },
      "outputs": [],
      "source": [
        "# Take only the feature extractor part\n",
        "\n",
        "base_model = keras.applications.Xception(weights='imagenet',\n",
        "                                                  include_top=False)\n",
        "\n"
      ]
    },
    {
      "cell_type": "code",
      "execution_count": null,
      "metadata": {
        "id": "jZx14U5N5TuE"
      },
      "outputs": [],
      "source": [
        "global_pooling = keras.layers.GlobalAveragePooling2D()(base_model.output)\n",
        "batch_norm = keras.layers.BatchNormalization()(global_pooling)\n",
        "drop_layer = keras.layers.Dropout(0.25)(batch_norm)\n",
        "output_ = keras.layers.Dense(units=3, activation='softmax')(drop_layer)\n",
        "\n",
        "model_TL_1 = keras.models.Model(inputs=[base_model.input], outputs=[output_])\n"
      ]
    },
    {
      "cell_type": "code",
      "source": [
        "model_TL_1.compile(\n",
        "    loss='sparse_categorical_crossentropy',\n",
        "    optimizer='adam',\n",
        "    metrics=['accuracy']\n",
        ")\n",
        "\n",
        "# Callbacks\n",
        "callbacks_TL_1 = [\n",
        "    keras.callbacks.ModelCheckpoint(\"bestTL_1.weights.h5\", monitor='val_accuracy',\n",
        "                                    save_weights_only=True, save_best_only=True)\n",
        "]\n",
        "\n",
        "# Train the model\n",
        "history_TL_1 = model_TL_1.fit(x=X_train_std, y=y_train, epochs=10,\n",
        "    validation_split=0.1, batch_size=16, callbacks=callbacks_TL_1)"
      ],
      "metadata": {
        "colab": {
          "base_uri": "https://localhost:8080/"
        },
        "id": "2K2ipI2KUz0i",
        "outputId": "4393c225-bf7e-4ca0-9326-2b7db946ff80"
      },
      "execution_count": null,
      "outputs": [
        {
          "output_type": "stream",
          "name": "stdout",
          "text": [
            "Epoch 1/10\n",
            "\u001b[1m28/28\u001b[0m \u001b[32m━━━━━━━━━━━━━━━━━━━━\u001b[0m\u001b[37m\u001b[0m \u001b[1m68s\u001b[0m 1s/step - accuracy: 0.8672 - loss: 0.4090 - val_accuracy: 1.0000 - val_loss: 0.0055\n",
            "Epoch 2/10\n",
            "\u001b[1m28/28\u001b[0m \u001b[32m━━━━━━━━━━━━━━━━━━━━\u001b[0m\u001b[37m\u001b[0m \u001b[1m45s\u001b[0m 395ms/step - accuracy: 0.9475 - loss: 0.2321 - val_accuracy: 1.0000 - val_loss: 0.0827\n",
            "Epoch 3/10\n",
            "\u001b[1m28/28\u001b[0m \u001b[32m━━━━━━━━━━━━━━━━━━━━\u001b[0m\u001b[37m\u001b[0m \u001b[1m11s\u001b[0m 390ms/step - accuracy: 0.9768 - loss: 0.1007 - val_accuracy: 0.9800 - val_loss: 0.0674\n",
            "Epoch 4/10\n",
            "\u001b[1m28/28\u001b[0m \u001b[32m━━━━━━━━━━━━━━━━━━━━\u001b[0m\u001b[37m\u001b[0m \u001b[1m21s\u001b[0m 397ms/step - accuracy: 0.9954 - loss: 0.0192 - val_accuracy: 0.9400 - val_loss: 0.1243\n",
            "Epoch 5/10\n",
            "\u001b[1m28/28\u001b[0m \u001b[32m━━━━━━━━━━━━━━━━━━━━\u001b[0m\u001b[37m\u001b[0m \u001b[1m21s\u001b[0m 402ms/step - accuracy: 1.0000 - loss: 1.4849e-04 - val_accuracy: 0.9600 - val_loss: 0.0780\n",
            "Epoch 6/10\n",
            "\u001b[1m28/28\u001b[0m \u001b[32m━━━━━━━━━━━━━━━━━━━━\u001b[0m\u001b[37m\u001b[0m \u001b[1m21s\u001b[0m 405ms/step - accuracy: 1.0000 - loss: 9.3292e-05 - val_accuracy: 1.0000 - val_loss: 0.0539\n",
            "Epoch 7/10\n",
            "\u001b[1m28/28\u001b[0m \u001b[32m━━━━━━━━━━━━━━━━━━━━\u001b[0m\u001b[37m\u001b[0m \u001b[1m12s\u001b[0m 414ms/step - accuracy: 1.0000 - loss: 6.9616e-05 - val_accuracy: 1.0000 - val_loss: 0.0357\n",
            "Epoch 8/10\n",
            "\u001b[1m28/28\u001b[0m \u001b[32m━━━━━━━━━━━━━━━━━━━━\u001b[0m\u001b[37m\u001b[0m \u001b[1m12s\u001b[0m 419ms/step - accuracy: 1.0000 - loss: 5.9674e-05 - val_accuracy: 1.0000 - val_loss: 0.0229\n",
            "Epoch 9/10\n",
            "\u001b[1m28/28\u001b[0m \u001b[32m━━━━━━━━━━━━━━━━━━━━\u001b[0m\u001b[37m\u001b[0m \u001b[1m20s\u001b[0m 390ms/step - accuracy: 1.0000 - loss: 4.4805e-05 - val_accuracy: 1.0000 - val_loss: 0.0142\n",
            "Epoch 10/10\n",
            "\u001b[1m28/28\u001b[0m \u001b[32m━━━━━━━━━━━━━━━━━━━━\u001b[0m\u001b[37m\u001b[0m \u001b[1m21s\u001b[0m 396ms/step - accuracy: 1.0000 - loss: 3.7897e-05 - val_accuracy: 1.0000 - val_loss: 0.0086\n"
          ]
        }
      ]
    },
    {
      "cell_type": "code",
      "execution_count": null,
      "metadata": {
        "id": "e4oQRPhD5TuF",
        "colab": {
          "base_uri": "https://localhost:8080/",
          "height": 449
        },
        "outputId": "a8e8bfbd-2e60-4437-81a4-51b07d22529a"
      },
      "outputs": [
        {
          "output_type": "display_data",
          "data": {
            "text/plain": [
              "<Figure size 640x480 with 1 Axes>"
            ],
            "image/png": "[encoded data removed]"
          },
          "metadata": {}
        }
      ],
      "source": [
        "keys = ['accuracy', 'val_accuracy']\n",
        "progress = {k:v for k,v in history_TL_1.history.items() if k in keys}\n",
        "\n",
        "import pandas as pd\n",
        "pd.DataFrame(progress).plot()\n",
        "\n",
        "plt.xlabel(\"epochs\")\n",
        "plt.ylabel(\"accuracy\")\n",
        "\n",
        "plt.grid(True)\n",
        "plt.show()"
      ]
    },
    {
      "cell_type": "code",
      "execution_count": null,
      "metadata": {
        "id": "N32VXLm85TuG",
        "colab": {
          "base_uri": "https://localhost:8080/"
        },
        "outputId": "4d331a9e-b285-4b57-faad-587ec5f2c9c8"
      },
      "outputs": [
        {
          "output_type": "stream",
          "name": "stdout",
          "text": [
            "\u001b[1m6/6\u001b[0m \u001b[32m━━━━━━━━━━━━━━━━━━━━\u001b[0m\u001b[37m\u001b[0m \u001b[1m4s\u001b[0m 464ms/step - accuracy: 1.0000 - loss: 0.0078\n",
            "Test-loss: 0.008865, Test-accuracy: 1.000000\n"
          ]
        }
      ],
      "source": [
        "testLoss_TL, testAccuracy_TL = model_TL_1.evaluate(x = X_test_std, y = y_test)\n",
        "print(\"Test-loss: %f, Test-accuracy: %f\" % (testLoss_TL, testAccuracy_TL))"
      ]
    },
    {
      "cell_type": "code",
      "execution_count": null,
      "metadata": {
        "id": "ja2b03x25TuG",
        "colab": {
          "base_uri": "https://localhost:8080/"
        },
        "outputId": "ea779d4b-26f9-458f-ca35-d9a7391adb82"
      },
      "outputs": [
        {
          "output_type": "stream",
          "name": "stdout",
          "text": [
            "\u001b[1m6/6\u001b[0m \u001b[32m━━━━━━━━━━━━━━━━━━━━\u001b[0m\u001b[37m\u001b[0m \u001b[1m1s\u001b[0m 175ms/step - accuracy: 1.0000 - loss: 0.0103\n",
            "Test-loss: 0.010593, Test-accuracy: 1.000000\n"
          ]
        }
      ],
      "source": [
        "model_TL_1.load_weights(\"bestTL_1.weights.h5\")\n",
        "\n",
        "testLoss_TL, testAccuracy_TL = model_TL_1.evaluate(x = X_test_std, y = y_test)\n",
        "print(\"Test-loss: %f, Test-accuracy: %f\" % (testLoss_TL, testAccuracy_TL))"
      ]
    },
    {
      "cell_type": "code",
      "execution_count": null,
      "metadata": {
        "id": "YV2h-ZDM5TuG",
        "outputId": "cfdc5c9d-cd51-457d-9419-efdd0299ea1a",
        "colab": {
          "base_uri": "https://localhost:8080/"
        }
      },
      "outputs": [
        {
          "output_type": "stream",
          "name": "stdout",
          "text": [
            "\u001b[1m6/6\u001b[0m \u001b[32m━━━━━━━━━━━━━━━━━━━━\u001b[0m\u001b[37m\u001b[0m \u001b[1m6s\u001b[0m 542ms/step\n",
            "[0 0 0 2 1 1 0 0 0 0 0 0 0 2 0 1 1 1 1 1 1 0 1 1 1 0 0 0 1 0 0 2 1 1 2 0 1\n",
            " 0 1 0 0 1 0 1 1 0 0 0 0 1 1 1 0 0 0 0 1 0 0 1 1 0 2 1 1 2 1 1 2 0 0 0 0 2\n",
            " 0 1 0 0 2 1 0 0 0 1 0 2 1 0 1 0 1 1 1 1 0 0 1 1 0 0 0 0 1 1 0 1 1 0 0 0 1\n",
            " 0 0 1 1 0 1 2 0 1 1 0 1 1 1 1 0 1 1 1 1 0 1 1 0 1 1 1 1 0 1 1 1 0 0 2 0 2\n",
            " 0 1 2 1 0 2 1 1 0 0 2 0 1 1 1 1 0 0]\n"
          ]
        }
      ],
      "source": [
        "y_proba = model_TL_1.predict(X_test_std)\n",
        "y_predict = np.argmax(y_proba, axis=-1)\n",
        "print(y_predict)"
      ]
    },
    {
      "cell_type": "code",
      "execution_count": null,
      "metadata": {
        "id": "Grf_BQuG5TuH",
        "colab": {
          "base_uri": "https://localhost:8080/"
        },
        "outputId": "3cfc5a76-dcf3-4e4d-f5b0-03d3302ffb7c"
      },
      "outputs": [
        {
          "output_type": "execute_result",
          "data": {
            "text/plain": [
              "array([[75,  0,  0],\n",
              "       [ 0, 75,  0],\n",
              "       [ 0,  0, 16]])"
            ]
          },
          "metadata": {},
          "execution_count": 30
        }
      ],
      "source": [
        "from sklearn.metrics import confusion_matrix\n",
        "confusion_matrix(y_true = y_test, y_pred = y_predict)"
      ]
    },
    {
      "cell_type": "code",
      "execution_count": null,
      "metadata": {
        "id": "b-i-JII05TuH",
        "outputId": "e9a1ea75-cef1-43fe-e65a-514a979a5ee6",
        "colab": {
          "base_uri": "https://localhost:8080/",
          "height": 642
        }
      },
      "outputs": [
        {
          "output_type": "display_data",
          "data": {
            "text/plain": [
              "<Figure size 600x600 with 1 Axes>"
            ],
            "image/png": "[encoded data removed]"
          },
          "metadata": {}
        },
        {
          "output_type": "stream",
          "name": "stdout",
          "text": [
            "{0, 1, 2}\n",
            "['Motorbikes' 'airplanes' 'schooner']\n"
          ]
        }
      ],
      "source": [
        "cm = confusion_matrix(y_true = y_test, y_pred = y_predict)\n",
        "\n",
        "fig, ax = plt.subplots(figsize=(6, 6))\n",
        "ax.matshow(cm, cmap=plt.cm.Blues, alpha=0.3)\n",
        "\n",
        "for i in range(cm.shape[0]):\n",
        "    for j in range(cm.shape[1]):\n",
        "        ax.text(x=j, y=i, s=cm[i, j], va='center', ha='center')\n",
        "\n",
        "ax.title.set_text('CNN\\n')\n",
        "plt.xlabel('Predicted label')\n",
        "plt.ylabel('True label')\n",
        "\n",
        "plt.tight_layout()\n",
        "plt.savefig(\"ConfusionMatrix.png\", dpi=300, format='png', pad_inches=0.3)\n",
        "plt.show()\n",
        "\n",
        "from sklearn.preprocessing import LabelEncoder\n",
        "lEncoder = LabelEncoder()\n",
        "y = lEncoder.fit_transform(y)\n",
        "\n",
        "print(set(y))\n",
        "print(lEncoder.classes_)"
      ]
    },
    {
      "cell_type": "code",
      "execution_count": null,
      "metadata": {
        "id": "vefeE1oM5TuH",
        "outputId": "da2ce247-74f8-472c-cb9b-c6f7d99824b4",
        "colab": {
          "base_uri": "https://localhost:8080/"
        }
      },
      "outputs": [
        {
          "output_type": "stream",
          "name": "stdout",
          "text": [
            "Requirement already satisfied: pandas in /usr/local/lib/python3.10/dist-packages (2.2.2)\n",
            "Requirement already satisfied: numpy>=1.22.4 in /usr/local/lib/python3.10/dist-packages (from pandas) (1.26.4)\n",
            "Requirement already satisfied: python-dateutil>=2.8.2 in /usr/local/lib/python3.10/dist-packages (from pandas) (2.8.2)\n",
            "Requirement already satisfied: pytz>=2020.1 in /usr/local/lib/python3.10/dist-packages (from pandas) (2024.2)\n",
            "Requirement already satisfied: tzdata>=2022.7 in /usr/local/lib/python3.10/dist-packages (from pandas) (2024.2)\n",
            "Requirement already satisfied: six>=1.5 in /usr/local/lib/python3.10/dist-packages (from python-dateutil>=2.8.2->pandas) (1.17.0)\n"
          ]
        }
      ],
      "source": [
        "!pip install pandas"
      ]
    },
    {
      "cell_type": "code",
      "execution_count": null,
      "metadata": {
        "id": "M4icYhYY5TuH",
        "outputId": "d4a90e34-35eb-40de-fe53-c8429855621e",
        "colab": {
          "base_uri": "https://localhost:8080/"
        }
      },
      "outputs": [
        {
          "output_type": "stream",
          "name": "stdout",
          "text": [
            "Precision:  1.0\n",
            "Recall:  1.0\n",
            "F1-score:  1.0\n",
            "\n",
            "\n",
            "\n",
            "\n"
          ]
        }
      ],
      "source": [
        "from sklearn.metrics import precision_score, recall_score, f1_score\n",
        "\n",
        "pScore = precision_score(y_true= y_test, y_pred = y_predict, average = 'weighted')\n",
        "print(\"Precision: \", pScore)\n",
        "\n",
        "rScore = recall_score(y_true= y_test, y_pred = y_predict, average = 'weighted')\n",
        "print(\"Recall: \", rScore)\n",
        "\n",
        "fScore = f1_score(y_true= y_test, y_pred = y_predict, average = 'weighted')\n",
        "print(\"F1-score: \", fScore)\n",
        "\n",
        "print(\"\\n\\n\\n\")"
      ]
    },
    {
      "cell_type": "code",
      "execution_count": null,
      "metadata": {
        "id": "aLrSREGT5TuK",
        "outputId": "4ab49001-1b5e-42a4-b9ad-7793d0ae24b2",
        "colab": {
          "base_uri": "https://localhost:8080/"
        }
      },
      "outputs": [
        {
          "output_type": "stream",
          "name": "stderr",
          "text": [
            "WARNING:absl:You are saving your model as an HDF5 file via `model.save()` or `keras.saving.save_model(model)`. This file format is considered legacy. We recommend using instead the native Keras format, e.g. `model.save('my_model.keras')` or `keras.saving.save_model(model, 'my_model.keras')`. \n"
          ]
        }
      ],
      "source": [
        "# Saves the best model obtained\n",
        "model_TL_1.save('/content/drive/MyDrive/Models/XceptionV3_TransferLearning_Best_Model.h5')"
      ]
    },
    {
      "cell_type": "code",
      "execution_count": null,
      "metadata": {
        "id": "ykjVcQ2i5TuK"
      },
      "outputs": [],
      "source": [
        "from numpy import save\n",
        "\n",
        "save('/content/drive/MyDrive/Models/X_train_std.npy', X_train_std)\n",
        "save('/content/drive/MyDrive/Models/X_test_std.npy', X_test_std)\n",
        "\n",
        "save('/content/drive/MyDrive/Models/y_train.npy', y_train)\n",
        "save('/content/drive/MyDrive/Models/y_test.npy', y_test)"
      ]
    },
    {
      "cell_type": "code",
      "execution_count": null,
      "metadata": {
        "id": "PodEyGFl5TuK"
      },
      "outputs": [],
      "source": []
    }
  ],
  "metadata": {
    "kernelspec": {
      "display_name": "Python 3",
      "name": "python3"
    },
    "language_info": {
      "codemirror_mode": {
        "name": "ipython",
        "version": 3
      },
      "file_extension": ".py",
      "mimetype": "text/x-python",
      "name": "python",
      "nbconvert_exporter": "python",
      "pygments_lexer": "ipython3",
      "version": "3.11.4"
    },
    "colab": {
      "provenance": [],
      "gpuType": "T4"
    },
    "accelerator": "GPU"
  },
  "nbformat": 4,
  "nbformat_minor": 0
}